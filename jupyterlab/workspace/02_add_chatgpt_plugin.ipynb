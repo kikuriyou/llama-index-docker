{
 "cells": [
  {
   "cell_type": "code",
   "execution_count": 1,
   "id": "dcd277a4-14fb-4c68-8f3d-2e10da1f1c7d",
   "metadata": {
    "tags": []
   },
   "outputs": [],
   "source": [
    "import os\n",
    "import logging\n",
    "import sys\n",
    "import requests\n",
    "import time\n",
    "from contextlib import contextmanager\n",
    "import textwrap\n",
    "\n",
    "import faiss\n",
    "from llama_index import GPTVectorStoreIndex, SimpleDirectoryReader, ServiceContext, LLMPredictor, StorageContext #, LangchainEmbedding\n",
    "from llama_index.vector_stores.faiss import FaissVectorStore\n",
    "#from llama_index.indices.vector_store import ChatGPTRetrievalPluginIndex\n",
    "\n",
    "from langchain.llms import OpenAI\n",
    "from langchain.chat_models import ChatOpenAI\n",
    "from langchain.embeddings.huggingface import HuggingFaceEmbeddings\n",
    "\n",
    "\n",
    "#logging.basicConfig(stream=sys.stdout, level=logging.DEBUG, force=True)\n",
    "logging.basicConfig(stream=sys.stdout, level=logging.INFO, force=True)"
   ]
  },
  {
   "cell_type": "code",
   "execution_count": 2,
   "id": "568d6f99-c632-4fb5-9ed3-1f61e76a5060",
   "metadata": {
    "tags": []
   },
   "outputs": [],
   "source": [
    "@contextmanager\n",
    "def timer(title):\n",
    "    t0 = time.time()\n",
    "    print(f\"[{title}] - start.\")\n",
    "    yield\n",
    "    print(f\"[{title}] - done in {time.time() - t0 :.1f}s.\")"
   ]
  },
  {
   "cell_type": "code",
   "execution_count": 3,
   "id": "69c48172-53ac-497c-b810-41e2ffa65b7d",
   "metadata": {
    "tags": []
   },
   "outputs": [],
   "source": [
    "# from https://github.com/jerryjliu/llama_index/blob/v0.5.27/gpt_index/indices/vector_store/vector_indices.py#L686\n",
    "\n",
    "from typing import Any, Callable, Dict, Optional, Sequence, Type\n",
    "from requests.adapters import Retry\n",
    "\n",
    "from llama_index.data_structs.node import Node\n",
    "from llama_index.indices.service_context import ServiceContext\n",
    "from llama_index.data_structs.data_structs import IndexDict\n",
    "from llama_index.data_structs.struct_type import IndexStructType\n",
    "from llama_index.vector_stores import ChatGPTRetrievalPluginClient\n",
    "\n",
    "\n",
    "class ChatGPTRetrievalPluginIndexDict(IndexDict):\n",
    "    \"\"\"Index dict for ChatGPT Retrieval Plugin.\"\"\"\n",
    "\n",
    "    @classmethod\n",
    "    def get_type(cls) -> IndexStructType:\n",
    "        \"\"\"Get type.\"\"\"\n",
    "        return IndexStructType.CHATGPT_RETRIEVAL_PLUGIN\n",
    "\n",
    "\n",
    "class ChatGPTRetrievalPluginIndex(GPTVectorStoreIndex):\n",
    "    \"\"\"ChatGPTRetrievalPlugin index.\n",
    "\n",
    "    This index directly interfaces with any server that hosts\n",
    "    the ChatGPT Retrieval Plugin interface:\n",
    "    https://github.com/openai/chatgpt-retrieval-plugin.\n",
    "\n",
    "    Args:\n",
    "        client (Optional[OpensearchVectorClient]): The client which encapsulates\n",
    "            logic for using Opensearch as a vector store (that is, it holds stuff\n",
    "            like endpoint, index_name and performs operations like initializing the\n",
    "            index and adding new doc/embeddings to said index).\n",
    "        service_context (ServiceContext): Service context container (contains\n",
    "            components like LLMPredictor, PromptHelper, etc.).\n",
    "    \"\"\"\n",
    "\n",
    "    index_struct_cls: Type[IndexDict] = ChatGPTRetrievalPluginIndexDict\n",
    "\n",
    "    def __init__(\n",
    "        self,\n",
    "        nodes: Optional[Sequence[Node]] = None,\n",
    "        index_struct: Optional[ChatGPTRetrievalPluginIndexDict] = None,\n",
    "        service_context: Optional[ServiceContext] = None,\n",
    "        endpoint_url: Optional[str] = None,\n",
    "        bearer_token: Optional[str] = None,\n",
    "        retries: Optional[Retry] = None,\n",
    "        batch_size: int = 100,\n",
    "        vector_store: Optional[ChatGPTRetrievalPluginClient] = None,\n",
    "        **kwargs: Any,\n",
    "    ) -> None:\n",
    "        \"\"\"Init params.\"\"\"\n",
    "\n",
    "        if vector_store is None:\n",
    "            if endpoint_url is None:\n",
    "                raise ValueError(\"endpoint_url is required.\")\n",
    "            if bearer_token is None:\n",
    "                raise ValueError(\"bearer_token is required.\")\n",
    "            vector_store = ChatGPTRetrievalPluginClient(\n",
    "                endpoint_url,\n",
    "                bearer_token,\n",
    "                retries=retries,\n",
    "                batch_size=batch_size,\n",
    "            )\n",
    "        assert vector_store is not None\n",
    "\n",
    "        super().__init__(\n",
    "            nodes=nodes,\n",
    "            index_struct=index_struct,\n",
    "            service_context=service_context,\n",
    "            vector_store=vector_store,\n",
    "            **kwargs,\n",
    "        )"
   ]
  },
  {
   "cell_type": "markdown",
   "id": "ac6b0600-6601-4efb-93da-1c958cdacd23",
   "metadata": {},
   "source": [
    "# indexの作成"
   ]
  },
  {
   "cell_type": "code",
   "execution_count": 4,
   "id": "96df405a-362b-43be-bed6-969994e55e81",
   "metadata": {
    "tags": []
   },
   "outputs": [
    {
     "name": "stdout",
     "output_type": "stream",
     "text": [
      "WARNING:llama_index.llm_predictor.base:Unknown max input size for gpt-3.5-turbo, using defaults.\n",
      "[make index] - start.\n",
      "INFO:llama_index.token_counter.token_counter:> [build_index_from_nodes] Total LLM token usage: 0 tokens\n",
      "INFO:llama_index.token_counter.token_counter:> [build_index_from_nodes] Total embedding token usage: 15402 tokens\n",
      "[make index] - done in 1.5s.\n",
      "[make query engine] - start.\n",
      "[make query engine] - done in 0.0s.\n"
     ]
    }
   ],
   "source": [
    "llm_name = \"chatgpt\" # \"chatgpt\", \"gpt3\"\n",
    "vector_search_method = \"qdrant\"  # \"simple\", \"faiss\", \"qdrant\"\n",
    "embed_model_name = \"default\"  # \"default\", \"oshizo/sbert-jsnli-luke-japanese-base-lite\"\n",
    "\"\"\"\n",
    "MEMO: cpu環境なのでembedはやめておく\n",
    "\"\"\"\n",
    "\n",
    "if llm_name == \"gpt3\":\n",
    "    llm = OpenAI(\n",
    "        model_name=\"text-davinci-003\",\n",
    "        max_tokens=1024,\n",
    "        temperature=0,\n",
    "        frequency_penalty=0.02,\n",
    "    )\n",
    "elif llm_name == \"chatgpt\":\n",
    "    llm = ChatOpenAI(\n",
    "        model_name=\"gpt-3.5-turbo\",\n",
    "        max_tokens=1024,\n",
    "        temperature=0,\n",
    "    )\n",
    "\n",
    "if embed_model_name == \"default\":\n",
    "    embed_model = None\n",
    "else:\n",
    "    embed_model = LangchainEmbedding(HuggingFaceEmbeddings(model_name=embed_model_name))\n",
    "\n",
    "documents = SimpleDirectoryReader(\"data\").load_data()\n",
    "llm_predictor = LLMPredictor(llm=llm)\n",
    "service_context = ServiceContext.from_defaults(\n",
    "    llm_predictor=llm_predictor,\n",
    "    embed_model=embed_model,\n",
    ")\n",
    "\n",
    "\n",
    "with timer(\"make index\"):\n",
    "    if vector_search_method == \"simple\":\n",
    "        index = GPTVectorStoreIndex.from_documents(\n",
    "            documents,\n",
    "            service_context=service_context,\n",
    "        )\n",
    "\n",
    "    elif vector_search_method == \"faiss\":\n",
    "        d = 1536  # dimensions of text-ada-embedding-002\n",
    "        faiss_index = faiss.IndexFlatIP(d)  # cosine similarity\n",
    "        vector_store = FaissVectorStore(faiss_index=faiss_index)\n",
    "        storage_context = StorageContext.from_defaults(vector_store=vector_store)\n",
    "        index = GPTVectorStoreIndex.from_documents(\n",
    "            documents,\n",
    "            storage_context=storage_context,\n",
    "            service_context=service_context,\n",
    "        )\n",
    "\n",
    "    elif vector_search_method == \"qdrant\":\n",
    "        index = ChatGPTRetrievalPluginIndex.from_documents(\n",
    "            documents, \n",
    "            endpoint_url=\"http://chatgpt-retrieval-plugin:7000\",\n",
    "            bearer_token=os.getenv(\"BEARER_TOKEN\"),\n",
    "            service_context=service_context,\n",
    "        )\n",
    "\n",
    "\n",
    "# クエリエンジン作成\n",
    "with timer(\"make query engine\"):\n",
    "    query_engine = index.as_query_engine(verbose=True)"
   ]
  },
  {
   "cell_type": "markdown",
   "id": "a1105a1b-96f0-4e9c-b7eb-3c1e7362dbbb",
   "metadata": {},
   "source": [
    "# 質問する"
   ]
  },
  {
   "cell_type": "code",
   "execution_count": 5,
   "id": "2e76a2fe-c45e-4613-9d4a-d9a5a22fac8a",
   "metadata": {
    "tags": []
   },
   "outputs": [
    {
     "name": "stdout",
     "output_type": "stream",
     "text": [
      "[ask question] - start.\n",
      "INFO:llama_index.token_counter.token_counter:> [retrieve] Total LLM token usage: 0 tokens\n",
      "INFO:llama_index.token_counter.token_counter:> [retrieve] Total embedding token usage: 31 tokens\n",
      "INFO:llama_index.token_counter.token_counter:> [get_response] Total LLM token usage: 1125 tokens\n",
      "INFO:llama_index.token_counter.token_counter:> [get_response] Total embedding token usage: 0 tokens\n",
      "[ask question] - done in 2.4s.\n"
     ]
    }
   ],
   "source": [
    "prompt = textwrap.dedent(\n",
    "    \"\"\"\n",
    "    ぼっちちゃんの苦手なことを教えてください\n",
    "    \"\"\"\n",
    ")\n",
    "\n",
    "with timer(\"ask question\"):\n",
    "    res = query_engine.query(prompt)"
   ]
  },
  {
   "cell_type": "code",
   "execution_count": 6,
   "id": "12744dda-330d-4104-8c73-fc82d91fc966",
   "metadata": {
    "tags": []
   },
   "outputs": [
    {
     "name": "stdout",
     "output_type": "stream",
     "text": [
      "ぼっちちゃんは人と接することが極度に苦手である。\n"
     ]
    }
   ],
   "source": [
    "print(res)"
   ]
  },
  {
   "cell_type": "code",
   "execution_count": null,
   "id": "f451a438-9cd0-41c3-9e91-82be1fdd923c",
   "metadata": {},
   "outputs": [],
   "source": []
  },
  {
   "cell_type": "markdown",
   "id": "c85865d2-db93-429a-95e1-236dd7c6a122",
   "metadata": {
    "tags": []
   },
   "source": [
    "# TODO\n",
    "- [ ] llama hubでPDF, Twitter、Slack、Wiki を引っ張ってこれるか試す\n",
    "- [ ] notionはできる？\n",
    "- [x] 画像の扱いを整理する\n",
    "- [x] chatgpt plugin試す"
   ]
  },
  {
   "cell_type": "code",
   "execution_count": null,
   "id": "c53a1c72-a496-4827-92be-bf4fe94d598b",
   "metadata": {},
   "outputs": [],
   "source": []
  },
  {
   "cell_type": "code",
   "execution_count": null,
   "id": "d7d8670c-35d7-4ff6-b009-2b8a98fc9a92",
   "metadata": {},
   "outputs": [],
   "source": []
  },
  {
   "cell_type": "markdown",
   "id": "62c2b354-fc8e-49bb-99ee-28c9968f04ea",
   "metadata": {},
   "source": [
    "# indexを保存"
   ]
  },
  {
   "cell_type": "code",
   "execution_count": null,
   "id": "62cf624e-26fc-4487-8591-1bda90e377e7",
   "metadata": {},
   "outputs": [],
   "source": [
    "index.storage_context.persist()"
   ]
  },
  {
   "cell_type": "code",
   "execution_count": null,
   "id": "a1bf8dbf-c189-444a-bed6-92b3b1cbb6e2",
   "metadata": {},
   "outputs": [],
   "source": []
  },
  {
   "cell_type": "markdown",
   "id": "460002fb-a6c6-492a-811d-0549382a2269",
   "metadata": {},
   "source": [
    "# indexをロード"
   ]
  },
  {
   "cell_type": "code",
   "execution_count": null,
   "id": "4cbf182e-e17e-4180-8622-816ff7a11eed",
   "metadata": {},
   "outputs": [],
   "source": [
    "from llama_index import StorageContext, load_index_from_storage\n",
    "\n",
    "storage_context = StorageContext.from_defaults(persist_dir=\"./storage\")\n",
    "index = load_index_from_storage(storage_context)"
   ]
  },
  {
   "cell_type": "code",
   "execution_count": null,
   "id": "b1b974d7-6534-4cf7-a89f-3ed2445bcaa2",
   "metadata": {},
   "outputs": [],
   "source": []
  },
  {
   "cell_type": "code",
   "execution_count": null,
   "id": "2bd1ee82-e889-46e9-9843-7491b729b431",
   "metadata": {},
   "outputs": [],
   "source": []
  },
  {
   "cell_type": "code",
   "execution_count": null,
   "id": "19123b2e-fd48-4738-8649-5b5e34681fe3",
   "metadata": {},
   "outputs": [],
   "source": []
  },
  {
   "cell_type": "code",
   "execution_count": null,
   "id": "509b0b66-5637-458e-a44b-a2a545a71fc6",
   "metadata": {},
   "outputs": [],
   "source": []
  },
  {
   "cell_type": "code",
   "execution_count": null,
   "id": "b4e183f0-ab71-4506-8b84-ef17c1568148",
   "metadata": {},
   "outputs": [],
   "source": []
  },
  {
   "cell_type": "code",
   "execution_count": null,
   "id": "9e78e4c4-8f6a-46a3-9212-f87783c8e2f1",
   "metadata": {},
   "outputs": [],
   "source": []
  }
 ],
 "metadata": {
  "kernelspec": {
   "display_name": "Python 3 (ipykernel)",
   "language": "python",
   "name": "python3"
  },
  "language_info": {
   "codemirror_mode": {
    "name": "ipython",
    "version": 3
   },
   "file_extension": ".py",
   "mimetype": "text/x-python",
   "name": "python",
   "nbconvert_exporter": "python",
   "pygments_lexer": "ipython3",
   "version": "3.9.10"
  }
 },
 "nbformat": 4,
 "nbformat_minor": 5
}
