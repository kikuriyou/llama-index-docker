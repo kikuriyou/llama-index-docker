{
 "cells": [
  {
   "cell_type": "code",
   "execution_count": 4,
   "id": "dcd277a4-14fb-4c68-8f3d-2e10da1f1c7d",
   "metadata": {
    "tags": []
   },
   "outputs": [],
   "source": [
    "import requests"
   ]
  },
  {
   "cell_type": "code",
   "execution_count": 5,
   "id": "f6e32a0a-2994-40cd-bdc3-c602e086ddb8",
   "metadata": {
    "tags": []
   },
   "outputs": [],
   "source": [
    "CLOUD_URL = \"https://clinicalqa-backend-74qlwzbjrq-uc.a.run.app\"\n",
    "LOCAL_URL = \"http://backend:9000\""
   ]
  },
  {
   "cell_type": "code",
   "execution_count": null,
   "id": "7dede7e7-26ca-43e7-a22c-aa3f3d7ce073",
   "metadata": {},
   "outputs": [],
   "source": []
  },
  {
   "cell_type": "code",
   "execution_count": 6,
   "id": "56a5a976-99c8-4c55-8d1f-741d1794f215",
   "metadata": {
    "tags": []
   },
   "outputs": [],
   "source": [
    "def run_health_check(cloud=False):\n",
    "    url = f\"{CLOUD_URL}/health\" if cloud else f\"{LOCAL_URL}/health\"\n",
    "    res = requests.get(url,\n",
    "                         #headers={'authorization': f'Bearer {token}'}\n",
    "                        )\n",
    "    #res_json = res.json()\n",
    "    return res"
   ]
  },
  {
   "cell_type": "code",
   "execution_count": 7,
   "id": "5361478a-9881-47dd-8cae-ce60da3767f9",
   "metadata": {
    "tags": []
   },
   "outputs": [
    {
     "data": {
      "text/plain": [
       "<Response [200]>"
      ]
     },
     "execution_count": 7,
     "metadata": {},
     "output_type": "execute_result"
    }
   ],
   "source": [
    "res = run_health_check(cloud=True)\n",
    "#res_json = res.json()\n",
    "res"
   ]
  },
  {
   "cell_type": "code",
   "execution_count": 8,
   "id": "52c8bf51-68ff-4fbb-8d5e-f8c270faa654",
   "metadata": {
    "tags": []
   },
   "outputs": [
    {
     "data": {
      "text/plain": [
       "{'health': 'ok'}"
      ]
     },
     "execution_count": 8,
     "metadata": {},
     "output_type": "execute_result"
    }
   ],
   "source": [
    "res.json()"
   ]
  },
  {
   "cell_type": "code",
   "execution_count": null,
   "id": "cec87c08-722c-44cf-a8cd-380772d7ed8a",
   "metadata": {},
   "outputs": [],
   "source": []
  },
  {
   "cell_type": "code",
   "execution_count": null,
   "id": "9480de9e-ef68-4662-9235-23356b0e8a42",
   "metadata": {
    "tags": []
   },
   "outputs": [],
   "source": [
    "def run_predict(payload, cloud=False):\n",
    "    url = f\"{CLOUD_URL}/predict\" if cloud else f\"{LOCAL_URL}/predict\"\n",
    "    res = requests.post(url, json=payload,\n",
    "                         #headers={'authorization': f'Bearer {token}'}\n",
    "                        )\n",
    "    #res_json = res.json()\n",
    "    return res"
   ]
  },
  {
   "cell_type": "code",
   "execution_count": null,
   "id": "e89fce02-15de-465f-b1d8-51deb15fb518",
   "metadata": {
    "tags": []
   },
   "outputs": [],
   "source": [
    "%%time\n",
    "\n",
    "pred_payload = {\n",
    "    \"gcs_data_dir\": \"data/20230212_2135\",\n",
    "}\n",
    "res = run_predict(payload=pred_payload, cloud=True)\n",
    "res"
   ]
  },
  {
   "cell_type": "code",
   "execution_count": null,
   "id": "6f1c15df-04aa-4960-aa68-6e3019dde729",
   "metadata": {
    "tags": []
   },
   "outputs": [],
   "source": [
    "res.json()"
   ]
  },
  {
   "cell_type": "code",
   "execution_count": null,
   "id": "8c4737ce-0143-4ca1-90e3-911939a449a7",
   "metadata": {},
   "outputs": [],
   "source": []
  },
  {
   "cell_type": "code",
   "execution_count": null,
   "id": "7f4d88f8-42b7-4e3b-914e-2f1d328f388b",
   "metadata": {},
   "outputs": [],
   "source": []
  },
  {
   "cell_type": "code",
   "execution_count": null,
   "id": "05801bb3-3bdc-4576-b564-f24cf29987b7",
   "metadata": {},
   "outputs": [],
   "source": []
  },
  {
   "cell_type": "code",
   "execution_count": null,
   "id": "56c37287-305c-4725-b47b-5fa889650c25",
   "metadata": {
    "tags": []
   },
   "outputs": [],
   "source": [
    "res_json = res.json()\n",
    "res_json"
   ]
  },
  {
   "cell_type": "code",
   "execution_count": null,
   "id": "c84a9c37-0958-4e85-a5bf-d7beb2ee4401",
   "metadata": {},
   "outputs": [],
   "source": [
    "res_json[\"data\"][\"status\"]"
   ]
  },
  {
   "cell_type": "code",
   "execution_count": null,
   "id": "6ed9fa2d-4c6a-421f-b386-254285c2a250",
   "metadata": {},
   "outputs": [],
   "source": []
  },
  {
   "cell_type": "code",
   "execution_count": null,
   "id": "c91594f2-536a-4bfc-b2fb-38014fa3d6bd",
   "metadata": {
    "tags": []
   },
   "outputs": [],
   "source": []
  },
  {
   "cell_type": "code",
   "execution_count": null,
   "id": "d34d2e6c-9cec-47c0-94cd-fb6ea556a527",
   "metadata": {},
   "outputs": [],
   "source": []
  },
  {
   "cell_type": "code",
   "execution_count": null,
   "id": "d6fc9d03-29bf-4ec1-8ebc-0a2ece131fed",
   "metadata": {},
   "outputs": [],
   "source": []
  },
  {
   "cell_type": "code",
   "execution_count": null,
   "id": "c66c2837-7278-4f91-bc64-6c4e374b0790",
   "metadata": {},
   "outputs": [],
   "source": []
  },
  {
   "cell_type": "code",
   "execution_count": null,
   "id": "cb5e6453-0b38-4960-9948-faee1bb17756",
   "metadata": {
    "tags": []
   },
   "outputs": [],
   "source": [
    "job_status_payload = {\n",
    "    \"gcs_data_dir\": \"data/20230212_2135\",\n",
    "}"
   ]
  },
  {
   "cell_type": "code",
   "execution_count": null,
   "id": "81bd8deb-417f-4188-9353-711a35a2d945",
   "metadata": {
    "tags": []
   },
   "outputs": [],
   "source": [
    "res = requests.post(f\"http://backend:9000/job_status\", json=job_status_payload,\n",
    "                     #headers={'authorization': f'Bearer {token}'}\n",
    "                    )\n",
    "res_json = res.json()\n",
    "res_json"
   ]
  },
  {
   "cell_type": "code",
   "execution_count": null,
   "id": "19123b2e-fd48-4738-8649-5b5e34681fe3",
   "metadata": {},
   "outputs": [],
   "source": []
  },
  {
   "cell_type": "code",
   "execution_count": null,
   "id": "509b0b66-5637-458e-a44b-a2a545a71fc6",
   "metadata": {},
   "outputs": [],
   "source": []
  },
  {
   "cell_type": "code",
   "execution_count": null,
   "id": "b4e183f0-ab71-4506-8b84-ef17c1568148",
   "metadata": {},
   "outputs": [],
   "source": []
  },
  {
   "cell_type": "code",
   "execution_count": null,
   "id": "9e78e4c4-8f6a-46a3-9212-f87783c8e2f1",
   "metadata": {},
   "outputs": [],
   "source": []
  }
 ],
 "metadata": {
  "kernelspec": {
   "display_name": "Python 3 (ipykernel)",
   "language": "python",
   "name": "python3"
  },
  "language_info": {
   "codemirror_mode": {
    "name": "ipython",
    "version": 3
   },
   "file_extension": ".py",
   "mimetype": "text/x-python",
   "name": "python",
   "nbconvert_exporter": "python",
   "pygments_lexer": "ipython3",
   "version": "3.9.10"
  }
 },
 "nbformat": 4,
 "nbformat_minor": 5
}
